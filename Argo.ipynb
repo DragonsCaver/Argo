{
 "cells": [
  {
   "cell_type": "code",
   "execution_count": 1,
   "metadata": {},
   "outputs": [
    {
     "ename": "StaleElementReferenceException",
     "evalue": "Message: stale element reference: stale element not found in the current frame\n  (Session info: chrome=125.0.6422.142); For documentation on this error, please visit: https://www.selenium.dev/documentation/webdriver/troubleshooting/errors#stale-element-reference-exception\nStacktrace:\n\tGetHandleVerifier [0x00007FF697E21F52+60322]\n\t(No symbol) [0x00007FF697D9CEC9]\n\t(No symbol) [0x00007FF697C57EBA]\n\t(No symbol) [0x00007FF697C5DCEE]\n\t(No symbol) [0x00007FF697C60641]\n\t(No symbol) [0x00007FF697C606E0]\n\t(No symbol) [0x00007FF697CAF219]\n\t(No symbol) [0x00007FF697CACCF2]\n\t(No symbol) [0x00007FF697CAA18B]\n\t(No symbol) [0x00007FF697CA9356]\n\t(No symbol) [0x00007FF697C9B491]\n\t(No symbol) [0x00007FF697CCC21A]\n\t(No symbol) [0x00007FF697C9ADB6]\n\t(No symbol) [0x00007FF697CCC430]\n\t(No symbol) [0x00007FF697CEBC80]\n\t(No symbol) [0x00007FF697CCBFC3]\n\t(No symbol) [0x00007FF697C99617]\n\t(No symbol) [0x00007FF697C9A211]\n\tGetHandleVerifier [0x00007FF6981394AD+3301629]\n\tGetHandleVerifier [0x00007FF6981836D3+3605283]\n\tGetHandleVerifier [0x00007FF698179450+3563680]\n\tGetHandleVerifier [0x00007FF697ED4326+790390]\n\t(No symbol) [0x00007FF697DA750F]\n\t(No symbol) [0x00007FF697DA3404]\n\t(No symbol) [0x00007FF697DA3592]\n\t(No symbol) [0x00007FF697D92F9F]\n\tBaseThreadInitThunk [0x00007FFFF2997344+20]\n\tRtlUserThreadStart [0x00007FFFF35226B1+33]\n",
     "output_type": "error",
     "traceback": [
      "\u001b[1;31m---------------------------------------------------------------------------\u001b[0m",
      "\u001b[1;31mStaleElementReferenceException\u001b[0m            Traceback (most recent call last)",
      "Cell \u001b[1;32mIn[1], line 24\u001b[0m\n\u001b[0;32m     22\u001b[0m \u001b[38;5;66;03m# Segundo botão\u001b[39;00m\n\u001b[0;32m     23\u001b[0m segundo_botao \u001b[38;5;241m=\u001b[39m wait\u001b[38;5;241m.\u001b[39muntil(EC\u001b[38;5;241m.\u001b[39melement_to_be_clickable((By\u001b[38;5;241m.\u001b[39mXPATH, \u001b[38;5;124m'\u001b[39m\u001b[38;5;124m/html/body/div[3]/div[3]/div[1]/div[1]/div/div[9]/a[1]\u001b[39m\u001b[38;5;124m'\u001b[39m)))\n\u001b[1;32m---> 24\u001b[0m \u001b[43msegundo_botao\u001b[49m\u001b[38;5;241;43m.\u001b[39;49m\u001b[43mclick\u001b[49m\u001b[43m(\u001b[49m\u001b[43m)\u001b[49m\n\u001b[0;32m     26\u001b[0m \u001b[38;5;66;03m# Terceiro Botão\u001b[39;00m\n\u001b[0;32m     27\u001b[0m terceiro_botao \u001b[38;5;241m=\u001b[39m wait\u001b[38;5;241m.\u001b[39muntil(EC\u001b[38;5;241m.\u001b[39melement_to_be_clickable((By\u001b[38;5;241m.\u001b[39mXPATH, \u001b[38;5;124m'\u001b[39m\u001b[38;5;124m'\u001b[39m)))\n",
      "File \u001b[1;32m~\\AppData\\Local\\Packages\\PythonSoftwareFoundation.Python.3.11_qbz5n2kfra8p0\\LocalCache\\local-packages\\Python311\\site-packages\\selenium\\webdriver\\remote\\webelement.py:94\u001b[0m, in \u001b[0;36mWebElement.click\u001b[1;34m(self)\u001b[0m\n\u001b[0;32m     92\u001b[0m \u001b[38;5;28;01mdef\u001b[39;00m \u001b[38;5;21mclick\u001b[39m(\u001b[38;5;28mself\u001b[39m) \u001b[38;5;241m-\u001b[39m\u001b[38;5;241m>\u001b[39m \u001b[38;5;28;01mNone\u001b[39;00m:\n\u001b[0;32m     93\u001b[0m \u001b[38;5;250m    \u001b[39m\u001b[38;5;124;03m\"\"\"Clicks the element.\"\"\"\u001b[39;00m\n\u001b[1;32m---> 94\u001b[0m     \u001b[38;5;28;43mself\u001b[39;49m\u001b[38;5;241;43m.\u001b[39;49m\u001b[43m_execute\u001b[49m\u001b[43m(\u001b[49m\u001b[43mCommand\u001b[49m\u001b[38;5;241;43m.\u001b[39;49m\u001b[43mCLICK_ELEMENT\u001b[49m\u001b[43m)\u001b[49m\n",
      "File \u001b[1;32m~\\AppData\\Local\\Packages\\PythonSoftwareFoundation.Python.3.11_qbz5n2kfra8p0\\LocalCache\\local-packages\\Python311\\site-packages\\selenium\\webdriver\\remote\\webelement.py:395\u001b[0m, in \u001b[0;36mWebElement._execute\u001b[1;34m(self, command, params)\u001b[0m\n\u001b[0;32m    393\u001b[0m     params \u001b[38;5;241m=\u001b[39m {}\n\u001b[0;32m    394\u001b[0m params[\u001b[38;5;124m\"\u001b[39m\u001b[38;5;124mid\u001b[39m\u001b[38;5;124m\"\u001b[39m] \u001b[38;5;241m=\u001b[39m \u001b[38;5;28mself\u001b[39m\u001b[38;5;241m.\u001b[39m_id\n\u001b[1;32m--> 395\u001b[0m \u001b[38;5;28;01mreturn\u001b[39;00m \u001b[38;5;28;43mself\u001b[39;49m\u001b[38;5;241;43m.\u001b[39;49m\u001b[43m_parent\u001b[49m\u001b[38;5;241;43m.\u001b[39;49m\u001b[43mexecute\u001b[49m\u001b[43m(\u001b[49m\u001b[43mcommand\u001b[49m\u001b[43m,\u001b[49m\u001b[43m \u001b[49m\u001b[43mparams\u001b[49m\u001b[43m)\u001b[49m\n",
      "File \u001b[1;32m~\\AppData\\Local\\Packages\\PythonSoftwareFoundation.Python.3.11_qbz5n2kfra8p0\\LocalCache\\local-packages\\Python311\\site-packages\\selenium\\webdriver\\remote\\webdriver.py:347\u001b[0m, in \u001b[0;36mWebDriver.execute\u001b[1;34m(self, driver_command, params)\u001b[0m\n\u001b[0;32m    345\u001b[0m response \u001b[38;5;241m=\u001b[39m \u001b[38;5;28mself\u001b[39m\u001b[38;5;241m.\u001b[39mcommand_executor\u001b[38;5;241m.\u001b[39mexecute(driver_command, params)\n\u001b[0;32m    346\u001b[0m \u001b[38;5;28;01mif\u001b[39;00m response:\n\u001b[1;32m--> 347\u001b[0m     \u001b[38;5;28;43mself\u001b[39;49m\u001b[38;5;241;43m.\u001b[39;49m\u001b[43merror_handler\u001b[49m\u001b[38;5;241;43m.\u001b[39;49m\u001b[43mcheck_response\u001b[49m\u001b[43m(\u001b[49m\u001b[43mresponse\u001b[49m\u001b[43m)\u001b[49m\n\u001b[0;32m    348\u001b[0m     response[\u001b[38;5;124m\"\u001b[39m\u001b[38;5;124mvalue\u001b[39m\u001b[38;5;124m\"\u001b[39m] \u001b[38;5;241m=\u001b[39m \u001b[38;5;28mself\u001b[39m\u001b[38;5;241m.\u001b[39m_unwrap_value(response\u001b[38;5;241m.\u001b[39mget(\u001b[38;5;124m\"\u001b[39m\u001b[38;5;124mvalue\u001b[39m\u001b[38;5;124m\"\u001b[39m, \u001b[38;5;28;01mNone\u001b[39;00m))\n\u001b[0;32m    349\u001b[0m     \u001b[38;5;28;01mreturn\u001b[39;00m response\n",
      "File \u001b[1;32m~\\AppData\\Local\\Packages\\PythonSoftwareFoundation.Python.3.11_qbz5n2kfra8p0\\LocalCache\\local-packages\\Python311\\site-packages\\selenium\\webdriver\\remote\\errorhandler.py:229\u001b[0m, in \u001b[0;36mErrorHandler.check_response\u001b[1;34m(self, response)\u001b[0m\n\u001b[0;32m    227\u001b[0m         alert_text \u001b[38;5;241m=\u001b[39m value[\u001b[38;5;124m\"\u001b[39m\u001b[38;5;124malert\u001b[39m\u001b[38;5;124m\"\u001b[39m]\u001b[38;5;241m.\u001b[39mget(\u001b[38;5;124m\"\u001b[39m\u001b[38;5;124mtext\u001b[39m\u001b[38;5;124m\"\u001b[39m)\n\u001b[0;32m    228\u001b[0m     \u001b[38;5;28;01mraise\u001b[39;00m exception_class(message, screen, stacktrace, alert_text)  \u001b[38;5;66;03m# type: ignore[call-arg]  # mypy is not smart enough here\u001b[39;00m\n\u001b[1;32m--> 229\u001b[0m \u001b[38;5;28;01mraise\u001b[39;00m exception_class(message, screen, stacktrace)\n",
      "\u001b[1;31mStaleElementReferenceException\u001b[0m: Message: stale element reference: stale element not found in the current frame\n  (Session info: chrome=125.0.6422.142); For documentation on this error, please visit: https://www.selenium.dev/documentation/webdriver/troubleshooting/errors#stale-element-reference-exception\nStacktrace:\n\tGetHandleVerifier [0x00007FF697E21F52+60322]\n\t(No symbol) [0x00007FF697D9CEC9]\n\t(No symbol) [0x00007FF697C57EBA]\n\t(No symbol) [0x00007FF697C5DCEE]\n\t(No symbol) [0x00007FF697C60641]\n\t(No symbol) [0x00007FF697C606E0]\n\t(No symbol) [0x00007FF697CAF219]\n\t(No symbol) [0x00007FF697CACCF2]\n\t(No symbol) [0x00007FF697CAA18B]\n\t(No symbol) [0x00007FF697CA9356]\n\t(No symbol) [0x00007FF697C9B491]\n\t(No symbol) [0x00007FF697CCC21A]\n\t(No symbol) [0x00007FF697C9ADB6]\n\t(No symbol) [0x00007FF697CCC430]\n\t(No symbol) [0x00007FF697CEBC80]\n\t(No symbol) [0x00007FF697CCBFC3]\n\t(No symbol) [0x00007FF697C99617]\n\t(No symbol) [0x00007FF697C9A211]\n\tGetHandleVerifier [0x00007FF6981394AD+3301629]\n\tGetHandleVerifier [0x00007FF6981836D3+3605283]\n\tGetHandleVerifier [0x00007FF698179450+3563680]\n\tGetHandleVerifier [0x00007FF697ED4326+790390]\n\t(No symbol) [0x00007FF697DA750F]\n\t(No symbol) [0x00007FF697DA3404]\n\t(No symbol) [0x00007FF697DA3592]\n\t(No symbol) [0x00007FF697D92F9F]\n\tBaseThreadInitThunk [0x00007FFFF2997344+20]\n\tRtlUserThreadStart [0x00007FFFF35226B1+33]\n"
     ]
    }
   ],
   "source": [
    "from selenium import webdriver\n",
    "from selenium.webdriver.common.by import By\n",
    "from selenium.webdriver.support.ui import WebDriverWait\n",
    "from selenium.webdriver.support import expected_conditions as EC\n",
    "\n",
    "navegador = webdriver.Chrome()\n",
    "\n",
    "navegador.get(\"https://www.argoit.com.br/pontestur\")\n",
    "\n",
    "\n",
    "navegador.find_element(By.XPATH, '//*[@id=\"LoginView1_Login1_User\"]').send_keys(\"rbtiptt\")\n",
    "navegador.find_element(By.XPATH, '//*[@id=\"LoginView1_Login1_Password\"]').send_keys(\"@13579\")\n",
    "navegador.find_element(By.XPATH, '//*[@id=\"LoginView1_Login1_LoginButton\"]').click()\n",
    "\n",
    "\n",
    "wait = WebDriverWait(navegador, 10)\n",
    "\n",
    "# Primeiro botão\n",
    "primeiro_botao = wait.until(EC.element_to_be_clickable((By.XPATH, '/html/body/div[3]/div[3]/div[1]/div[1]/div/div[9]/a[1]')))\n",
    "primeiro_botao.click()\n",
    "\n",
    "# Segundo botão\n",
    "segundo_botao = wait.until(EC.element_to_be_clickable((By.XPATH, '/html/body/div[3]/div[3]/div[1]/div[1]/div/div[9]/a[1]')))\n",
    "segundo_botao.click()\n",
    "\n",
    "# Terceiro Botão\n",
    "terceiro_botao = wait.until(EC.element_to_be_clickable((By.XPATH, '')))\n",
    "\n",
    "\n",
    "\n",
    "\n",
    "\n",
    "\n",
    "\n",
    "\n",
    "\n",
    "\n",
    "\n"
   ]
  }
 ],
 "metadata": {
  "kernelspec": {
   "display_name": "Python 3",
   "language": "python",
   "name": "python3"
  },
  "language_info": {
   "codemirror_mode": {
    "name": "ipython",
    "version": 3
   },
   "file_extension": ".py",
   "mimetype": "text/x-python",
   "name": "python",
   "nbconvert_exporter": "python",
   "pygments_lexer": "ipython3",
   "version": "3.11.9"
  }
 },
 "nbformat": 4,
 "nbformat_minor": 2
}
